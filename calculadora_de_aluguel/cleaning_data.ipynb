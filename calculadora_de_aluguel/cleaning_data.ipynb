{
 "cells": [
  {
   "cell_type": "code",
   "execution_count": 1,
   "metadata": {},
   "outputs": [],
   "source": [
    "import pandas as pd\n",
    "import numpy as np\n",
    "df = pd.read_csv(\"raw_data.csv\")"
   ]
  },
  {
   "cell_type": "markdown",
   "metadata": {},
   "source": [
    "## Removendo Duplicados"
   ]
  },
  {
   "cell_type": "code",
   "execution_count": 2,
   "metadata": {},
   "outputs": [],
   "source": [
    "df = df.drop_duplicates(keep=\"first\", subset=[coluna for coluna in df.columns if coluna!=\"crawled_at\"]).reset_index(drop=True)"
   ]
  },
  {
   "cell_type": "markdown",
   "metadata": {},
   "source": [
    "## Removendo Anúncios"
   ]
  },
  {
   "cell_type": "code",
   "execution_count": 3,
   "metadata": {},
   "outputs": [],
   "source": [
    "filtro_de_anuncios = [_id.isnumeric() for _id in df[\"id\"]]"
   ]
  },
  {
   "cell_type": "code",
   "execution_count": 4,
   "metadata": {},
   "outputs": [],
   "source": [
    "df = df[filtro_de_anuncios].reset_index(drop=True)"
   ]
  },
  {
   "cell_type": "markdown",
   "metadata": {},
   "source": [
    "## Removendo strings de campos numericos"
   ]
  },
  {
   "cell_type": "code",
   "execution_count": 5,
   "metadata": {},
   "outputs": [
    {
     "data": {
      "text/plain": [
       "{'-- Quarto', '1 Quarto', '2 Quartos', '3 Quartos', '4 Quartos', '5 Quartos'}"
      ]
     },
     "execution_count": 5,
     "metadata": {},
     "output_type": "execute_result"
    }
   ],
   "source": [
    "set(df[\"rooms\"])"
   ]
  },
  {
   "cell_type": "code",
   "execution_count": 6,
   "metadata": {},
   "outputs": [
    {
     "data": {
      "text/plain": [
       "{'0', '1', '2', '3', '4', '5'}"
      ]
     },
     "execution_count": 6,
     "metadata": {},
     "output_type": "execute_result"
    }
   ],
   "source": [
    "set(df[\"rooms\"].str.split(\" \").str[0].str.replace(\"--\",\"0\"))"
   ]
  },
  {
   "cell_type": "code",
   "execution_count": 7,
   "metadata": {},
   "outputs": [],
   "source": [
    "df[\"rooms_limpo\"] = (df[\"rooms\"]\n",
    "                     .str.split(\" \")\n",
    "                     .str[0]\n",
    "                     .str.replace(\"--\",\"0\")\n",
    "                     .astype(int))"
   ]
  },
  {
   "cell_type": "code",
   "execution_count": 8,
   "metadata": {},
   "outputs": [
    {
     "data": {
      "text/plain": [
       "{'-- Banheiro',\n",
       " '1 Banheiro',\n",
       " '2 Banheiros',\n",
       " '3 Banheiros',\n",
       " '4 Banheiros',\n",
       " '5 Banheiros',\n",
       " '6 Banheiros',\n",
       " '7 Banheiros',\n",
       " '8 Banheiros'}"
      ]
     },
     "execution_count": 8,
     "metadata": {},
     "output_type": "execute_result"
    }
   ],
   "source": [
    "set(df[\"bathrooms\"])"
   ]
  },
  {
   "cell_type": "code",
   "execution_count": 9,
   "metadata": {},
   "outputs": [],
   "source": [
    "df[\"bathrooms_limpo\"] = (df[\"bathrooms\"]\n",
    "                         .str.split(\" \")\n",
    "                         .str[0]\n",
    "                         .str.replace(\"--\",\"0\")\n",
    "                         .astype(int))"
   ]
  },
  {
   "cell_type": "code",
   "execution_count": 10,
   "metadata": {},
   "outputs": [
    {
     "data": {
      "text/plain": [
       "{'-- Vaga',\n",
       " '1 Vaga',\n",
       " '10 Vagas',\n",
       " '14 Vagas',\n",
       " '2 Vagas',\n",
       " '3 Vagas',\n",
       " '4 Vagas',\n",
       " '47 Vagas',\n",
       " '5 Vagas',\n",
       " '6 Vagas',\n",
       " '7 Vagas',\n",
       " '8 Vagas',\n",
       " '9 Vagas'}"
      ]
     },
     "execution_count": 10,
     "metadata": {},
     "output_type": "execute_result"
    }
   ],
   "source": [
    "set(df[\"garages\"])"
   ]
  },
  {
   "cell_type": "code",
   "execution_count": 11,
   "metadata": {},
   "outputs": [],
   "source": [
    "df[\"garages_limpo\"] = (df[\"garages\"]\n",
    "                       .str.split(\" \")\n",
    "                       .str[0]\n",
    "                       .str.replace(\"--\",\"0\")\n",
    "                       .astype(int))"
   ]
  },
  {
   "cell_type": "code",
   "execution_count": 12,
   "metadata": {},
   "outputs": [],
   "source": [
    "df[\"price_limpo\"] = [int(w.split(\"R$ \")[1].replace(\".\",\"\")) for w in df[\"price\"]]"
   ]
  },
  {
   "cell_type": "code",
   "execution_count": 13,
   "metadata": {},
   "outputs": [],
   "source": [
    "df[\"condo\"] = df[\"condo\"].fillna(\"MISSING\")"
   ]
  },
  {
   "cell_type": "code",
   "execution_count": 14,
   "metadata": {},
   "outputs": [],
   "source": [
    "df[\"condo_limpo\"] = [int(w.split(\"R$ \")[1].replace(\".\",\"\")) if w!=\"MISSING\" else np.nan for w in df[\"condo\"]]"
   ]
  },
  {
   "cell_type": "code",
   "execution_count": 15,
   "metadata": {},
   "outputs": [],
   "source": [
    "df[\"area_limpo\"] = df[\"area\"].astype(int)"
   ]
  },
  {
   "cell_type": "code",
   "execution_count": 16,
   "metadata": {},
   "outputs": [],
   "source": [
    "df[\"crawled_at\"] = pd.to_datetime(df[\"crawled_at\"], format=\"%Y-%m-%d %H:%M\")"
   ]
  },
  {
   "cell_type": "code",
   "execution_count": 17,
   "metadata": {},
   "outputs": [],
   "source": [
    "df = df.drop(columns=[\"area\", \"rooms\", \"bathrooms\", \"garages\", \"price\", \"condo\"])"
   ]
  },
  {
   "cell_type": "markdown",
   "metadata": {},
   "source": [
    "## Bairro"
   ]
  },
  {
   "cell_type": "code",
   "execution_count": 18,
   "metadata": {},
   "outputs": [
    {
     "data": {
      "text/plain": [
       "0         Avenida Portugal, 401 - Brooklin, São Paulo - SP\n",
       "1            Rua Nova York, 470 - Brooklin, São Paulo - SP\n",
       "2         Avenida Portugal, 371 - Brooklin, São Paulo - SP\n",
       "3                  Rua Michigan - Brooklin, São Paulo - SP\n",
       "4                                 Brooklin, São Paulo - SP\n",
       "                               ...                        \n",
       "15519                 Rua Purus - Tucuruvi, São Paulo - SP\n",
       "15520      Rua Manuel Gaya, 945 - Tucuruvi, São Paulo - SP\n",
       "15521    Avenida Coronel Sezefredo Fagundes - Tucuruvi,...\n",
       "15522    Avenida Coronel Sezefredo Fagundes - Tucuruvi,...\n",
       "15523       Avenida Mazzei, 530 - Tucuruvi, São Paulo - SP\n",
       "Name: address, Length: 15524, dtype: object"
      ]
     },
     "execution_count": 18,
     "metadata": {},
     "output_type": "execute_result"
    }
   ],
   "source": [
    "df[\"address\"]"
   ]
  },
  {
   "cell_type": "code",
   "execution_count": 19,
   "metadata": {},
   "outputs": [],
   "source": [
    "df[\"bairro\"] = df[\"address\"].str.split(\"- \").str[1].str.split(\",\").str[0]"
   ]
  },
  {
   "cell_type": "code",
   "execution_count": 20,
   "metadata": {},
   "outputs": [],
   "source": [
    "df.loc[df[\"bairro\"].isin([\"SP\",\"RJ\"]), \"bairro\"] = df.loc[df[\"bairro\"].isin([\"SP\",\"RJ\"]), \"address\"].str.split(\",\").str[0]"
   ]
  },
  {
   "cell_type": "code",
   "execution_count": 21,
   "metadata": {},
   "outputs": [],
   "source": [
    "df[\"bairro\"] = df[\"bairro\"].str.lower().str.normalize(\"NFKD\").str.encode(\"ascii\", errors = \"ignore\").str.decode(\"utf-8\").str.replace(\" \", \"_\")"
   ]
  },
  {
   "cell_type": "code",
   "execution_count": 22,
   "metadata": {},
   "outputs": [],
   "source": [
    "df[\"crawler\"] = df[\"crawler\"].str.lower().str.replace(\" \",\"_\")"
   ]
  },
  {
   "cell_type": "code",
   "execution_count": 23,
   "metadata": {},
   "outputs": [
    {
     "data": {
      "text/html": [
       "<div>\n",
       "<style scoped>\n",
       "    .dataframe tbody tr th:only-of-type {\n",
       "        vertical-align: middle;\n",
       "    }\n",
       "\n",
       "    .dataframe tbody tr th {\n",
       "        vertical-align: top;\n",
       "    }\n",
       "\n",
       "    .dataframe thead th {\n",
       "        text-align: right;\n",
       "    }\n",
       "</style>\n",
       "<table border=\"1\" class=\"dataframe\">\n",
       "  <thead>\n",
       "    <tr style=\"text-align: right;\">\n",
       "      <th></th>\n",
       "      <th>bairro</th>\n",
       "      <th>crawler</th>\n",
       "    </tr>\n",
       "  </thead>\n",
       "  <tbody>\n",
       "    <tr>\n",
       "      <th>3596</th>\n",
       "      <td>freguesia_do_o</td>\n",
       "      <td>fregesia_do_o</td>\n",
       "    </tr>\n",
       "    <tr>\n",
       "      <th>3597</th>\n",
       "      <td>freguesia_do_o</td>\n",
       "      <td>fregesia_do_o</td>\n",
       "    </tr>\n",
       "    <tr>\n",
       "      <th>3598</th>\n",
       "      <td>freguesia_do_o</td>\n",
       "      <td>fregesia_do_o</td>\n",
       "    </tr>\n",
       "    <tr>\n",
       "      <th>3599</th>\n",
       "      <td>freguesia_do_o</td>\n",
       "      <td>fregesia_do_o</td>\n",
       "    </tr>\n",
       "    <tr>\n",
       "      <th>3600</th>\n",
       "      <td>freguesia_do_o</td>\n",
       "      <td>fregesia_do_o</td>\n",
       "    </tr>\n",
       "    <tr>\n",
       "      <th>...</th>\n",
       "      <td>...</td>\n",
       "      <td>...</td>\n",
       "    </tr>\n",
       "    <tr>\n",
       "      <th>4521</th>\n",
       "      <td>freguesia_do_o</td>\n",
       "      <td>fregesia_do_o</td>\n",
       "    </tr>\n",
       "    <tr>\n",
       "      <th>4522</th>\n",
       "      <td>freguesia_do_o</td>\n",
       "      <td>fregesia_do_o</td>\n",
       "    </tr>\n",
       "    <tr>\n",
       "      <th>4523</th>\n",
       "      <td>freguesia_do_o</td>\n",
       "      <td>fregesia_do_o</td>\n",
       "    </tr>\n",
       "    <tr>\n",
       "      <th>4524</th>\n",
       "      <td>freguesia_do_o</td>\n",
       "      <td>fregesia_do_o</td>\n",
       "    </tr>\n",
       "    <tr>\n",
       "      <th>4525</th>\n",
       "      <td>freguesia_do_o</td>\n",
       "      <td>fregesia_do_o</td>\n",
       "    </tr>\n",
       "  </tbody>\n",
       "</table>\n",
       "<p>930 rows × 2 columns</p>\n",
       "</div>"
      ],
      "text/plain": [
       "              bairro        crawler\n",
       "3596  freguesia_do_o  fregesia_do_o\n",
       "3597  freguesia_do_o  fregesia_do_o\n",
       "3598  freguesia_do_o  fregesia_do_o\n",
       "3599  freguesia_do_o  fregesia_do_o\n",
       "3600  freguesia_do_o  fregesia_do_o\n",
       "...              ...            ...\n",
       "4521  freguesia_do_o  fregesia_do_o\n",
       "4522  freguesia_do_o  fregesia_do_o\n",
       "4523  freguesia_do_o  fregesia_do_o\n",
       "4524  freguesia_do_o  fregesia_do_o\n",
       "4525  freguesia_do_o  fregesia_do_o\n",
       "\n",
       "[930 rows x 2 columns]"
      ]
     },
     "execution_count": 23,
     "metadata": {},
     "output_type": "execute_result"
    }
   ],
   "source": [
    "df.loc[df[\"bairro\"] != df[\"crawler\"] , [\"bairro\", \"crawler\"]]"
   ]
  },
  {
   "cell_type": "code",
   "execution_count": 24,
   "metadata": {},
   "outputs": [],
   "source": [
    "df[\"crawler\"] = df[\"crawler\"].str.replace(\"fregesia\",\"freguesia\")"
   ]
  },
  {
   "cell_type": "code",
   "execution_count": 25,
   "metadata": {},
   "outputs": [
    {
     "data": {
      "text/html": [
       "<div>\n",
       "<style scoped>\n",
       "    .dataframe tbody tr th:only-of-type {\n",
       "        vertical-align: middle;\n",
       "    }\n",
       "\n",
       "    .dataframe tbody tr th {\n",
       "        vertical-align: top;\n",
       "    }\n",
       "\n",
       "    .dataframe thead th {\n",
       "        text-align: right;\n",
       "    }\n",
       "</style>\n",
       "<table border=\"1\" class=\"dataframe\">\n",
       "  <thead>\n",
       "    <tr style=\"text-align: right;\">\n",
       "      <th></th>\n",
       "      <th>bairro</th>\n",
       "      <th>crawler</th>\n",
       "    </tr>\n",
       "  </thead>\n",
       "  <tbody>\n",
       "  </tbody>\n",
       "</table>\n",
       "</div>"
      ],
      "text/plain": [
       "Empty DataFrame\n",
       "Columns: [bairro, crawler]\n",
       "Index: []"
      ]
     },
     "execution_count": 25,
     "metadata": {},
     "output_type": "execute_result"
    }
   ],
   "source": [
    "df.loc[df[\"bairro\"] != df[\"crawler\"] , [\"bairro\", \"crawler\"]]"
   ]
  },
  {
   "cell_type": "code",
   "execution_count": 26,
   "metadata": {},
   "outputs": [],
   "source": [
    "df = df.drop(columns = \"bairro\")"
   ]
  },
  {
   "cell_type": "markdown",
   "metadata": {},
   "source": [
    "## Amenities"
   ]
  },
  {
   "cell_type": "code",
   "execution_count": 27,
   "metadata": {},
   "outputs": [],
   "source": [
    "df = pd.concat([df, df[\"amenities\"].str.get_dummies(\"\\n\")], axis = 1)"
   ]
  },
  {
   "cell_type": "markdown",
   "metadata": {},
   "source": [
    "## Criando novo arquivo com dados limpos"
   ]
  },
  {
   "cell_type": "code",
   "execution_count": 28,
   "metadata": {},
   "outputs": [],
   "source": [
    "df.to_csv(\"clean_data.csv\", index = False)"
   ]
  }
 ],
 "metadata": {
  "kernelspec": {
   "display_name": "Python 3",
   "language": "python",
   "name": "python3"
  },
  "language_info": {
   "codemirror_mode": {
    "name": "ipython",
    "version": 3
   },
   "file_extension": ".py",
   "mimetype": "text/x-python",
   "name": "python",
   "nbconvert_exporter": "python",
   "pygments_lexer": "ipython3",
   "version": "3.8.5"
  }
 },
 "nbformat": 4,
 "nbformat_minor": 4
}
